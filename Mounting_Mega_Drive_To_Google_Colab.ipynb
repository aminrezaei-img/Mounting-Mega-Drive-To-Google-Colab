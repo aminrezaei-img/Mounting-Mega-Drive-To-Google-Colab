{
  "nbformat": 4,
  "nbformat_minor": 0,
  "metadata": {
    "colab": {
      "name": "Mounting Mega Drive To Google Colab.ipynb",
      "provenance": [],
      "collapsed_sections": [
        "5k-oOkKAjQob",
        "3PgcxGoMKNJ9",
        "ywZD1yLrKWU8"
      ]
    },
    "kernelspec": {
      "name": "python3",
      "display_name": "Python 3"
    },
    "language_info": {
      "name": "python"
    }
  },
  "cells": [
    {
      "cell_type": "markdown",
      "metadata": {
        "id": "NAgj_Y06bngJ"
      },
      "source": [
        "<p><img alt=\"Drive logo\" height=\"35px\" src=\"/img/colab_favicon.ico\" align=\"left\" hspace=\"10px\" vspace=\"3px\"></p>\n",
        "\n",
        "# **Mounting Mega Drive to Google Colab**"
      ]
    },
    {
      "cell_type": "markdown",
      "metadata": {
        "id": "5k-oOkKAjQob"
      },
      "source": [
        "# 1. **Steps to follow on your Google colab**"
      ]
    },
    {
      "cell_type": "markdown",
      "metadata": {
        "id": "3PgcxGoMKNJ9"
      },
      "source": [
        "## 1.1 install dependencies"
      ]
    },
    {
      "cell_type": "code",
      "metadata": {
        "id": "0vt-A2HejSRR",
        "cellView": "form",
        "colab": {
          "base_uri": "https://localhost:8080/"
        },
        "outputId": "39321d31-eb87-44d9-d0af-41d2937928a2"
      },
      "source": [
        "#@markdown ##Press play to install rclone on your VM\n",
        "!curl  https://rclone.org/install.sh | sudo bash\n",
        "print('━━━━━━━━━━━━━━━━━━━━━━━━━━━━━━━━━━━━━━━━━━━━━━━━━━━━━━━━━━━━━━━━━━━━━━━━━━━━━━━━━━━━━━━━━━━━━━━━━━━━━━━━━')\n",
        "print('✔️ Rclone has been successfully')"
      ],
      "execution_count": 1,
      "outputs": [
        {
          "output_type": "stream",
          "name": "stdout",
          "text": [
            "  % Total    % Received % Xferd  Average Speed   Time    Time     Time  Current\n",
            "                                 Dload  Upload   Total   Spent    Left  Speed\n",
            "100  4497  100  4497    0     0  10784      0 --:--:-- --:--:-- --:--:-- 10758\n",
            "Archive:  rclone-current-linux-amd64.zip\n",
            "   creating: tmp_unzip_dir_for_rclone/rclone-v1.57.0-linux-amd64/\n",
            "  inflating: tmp_unzip_dir_for_rclone/rclone-v1.57.0-linux-amd64/README.txt  [text]  \n",
            "  inflating: tmp_unzip_dir_for_rclone/rclone-v1.57.0-linux-amd64/git-log.txt  [text]  \n",
            "  inflating: tmp_unzip_dir_for_rclone/rclone-v1.57.0-linux-amd64/rclone.1  [text]  \n",
            "  inflating: tmp_unzip_dir_for_rclone/rclone-v1.57.0-linux-amd64/README.html  [text]  \n",
            "  inflating: tmp_unzip_dir_for_rclone/rclone-v1.57.0-linux-amd64/rclone  [binary]\n",
            "Purging old database entries in /usr/share/man...\n",
            "Processing manual pages under /usr/share/man...\n",
            "Purging old database entries in /usr/share/man/ru...\n",
            "Processing manual pages under /usr/share/man/ru...\n",
            "Purging old database entries in /usr/share/man/ja...\n",
            "Processing manual pages under /usr/share/man/ja...\n",
            "Purging old database entries in /usr/share/man/cs...\n",
            "Processing manual pages under /usr/share/man/cs...\n",
            "Purging old database entries in /usr/share/man/pl...\n",
            "Processing manual pages under /usr/share/man/pl...\n",
            "Purging old database entries in /usr/share/man/pt...\n",
            "Processing manual pages under /usr/share/man/pt...\n",
            "Purging old database entries in /usr/share/man/hu...\n",
            "Processing manual pages under /usr/share/man/hu...\n",
            "Purging old database entries in /usr/share/man/zh_CN...\n",
            "Processing manual pages under /usr/share/man/zh_CN...\n",
            "Purging old database entries in /usr/share/man/zh_TW...\n",
            "Processing manual pages under /usr/share/man/zh_TW...\n",
            "Purging old database entries in /usr/share/man/ko...\n",
            "Processing manual pages under /usr/share/man/ko...\n",
            "Purging old database entries in /usr/share/man/es...\n",
            "Processing manual pages under /usr/share/man/es...\n",
            "Purging old database entries in /usr/share/man/tr...\n",
            "Processing manual pages under /usr/share/man/tr...\n",
            "Purging old database entries in /usr/share/man/it...\n",
            "Processing manual pages under /usr/share/man/it...\n",
            "Purging old database entries in /usr/share/man/sv...\n",
            "Processing manual pages under /usr/share/man/sv...\n",
            "Purging old database entries in /usr/share/man/fr...\n",
            "Processing manual pages under /usr/share/man/fr...\n",
            "Purging old database entries in /usr/share/man/id...\n",
            "Processing manual pages under /usr/share/man/id...\n",
            "Purging old database entries in /usr/share/man/nl...\n",
            "Processing manual pages under /usr/share/man/nl...\n",
            "Purging old database entries in /usr/share/man/fi...\n",
            "Processing manual pages under /usr/share/man/fi...\n",
            "Purging old database entries in /usr/share/man/da...\n",
            "Processing manual pages under /usr/share/man/da...\n",
            "Purging old database entries in /usr/share/man/de...\n",
            "Processing manual pages under /usr/share/man/de...\n",
            "Purging old database entries in /usr/share/man/pt_BR...\n",
            "Processing manual pages under /usr/share/man/pt_BR...\n",
            "Purging old database entries in /usr/share/man/sr...\n",
            "Processing manual pages under /usr/share/man/sr...\n",
            "Processing manual pages under /usr/local/man...\n",
            "Updating index cache for path `/usr/local/man/man1'. Wait...done.\n",
            "Checking for stray cats under /usr/local/man...\n",
            "Checking for stray cats under /var/cache/man/oldlocal...\n",
            "1 man subdirectory contained newer manual pages.\n",
            "4 manual pages were added.\n",
            "0 stray cats were added.\n",
            "20 old database entries were purged.\n",
            "\n",
            "rclone v1.57.0 has successfully installed.\n",
            "Now run \"rclone config\" for setup. Check https://rclone.org/docs/ for more details.\n",
            "\n",
            "━━━━━━━━━━━━━━━━━━━━━━━━━━━━━━━━━━━━━━━━━━━━━━━━━━━━━━━━━━━━━━━━━━━━━━━━━━━━━━━━━━━━━━━━━━━━━━━━━━━━━━━━━\n",
            "✔️ Rclone has been successfully\n"
          ]
        }
      ]
    },
    {
      "cell_type": "markdown",
      "metadata": {
        "id": "ywZD1yLrKWU8"
      },
      "source": [
        "## 1.2 Set your configs ⚙️ manually ⌨️ - Click on the cell below to expand, and then follow the instructions 📖"
      ]
    },
    {
      "cell_type": "code",
      "metadata": {
        "id": "-gPLndn4K20a",
        "cellView": "form"
      },
      "source": [
        "#@markdown ##Press play to set Mega Drive configurations.\n",
        "\n",
        "#@markdown ##**Reply to the following fields in the order listed below:**\n",
        "\n",
        "#@markdown 1️⃣. Type ' n ' in the 1st empty field and press enter.\n",
        "\n",
        "#@markdown 2️⃣. Type ' mega ' in the 2nd empty field and press enter (case sensetive, Capslock off).\n",
        "\n",
        "#@markdown 3️⃣. Type the ' number ' that affiliates with mega in the 3rd empty field and press enter (for example in rclone v1.56.0 this number is '25').\n",
        "\n",
        "#@markdown 4️⃣. Insert your Mega User name and press enter (For example: 123@456.com).\n",
        "\n",
        "#@markdown 5️⃣. In response to 5th field \"Select type in my own password\". Type \"y\" and press enter.\n",
        "\n",
        "#@markdown 6️⃣. Type your Mega password and press enter.\n",
        "\n",
        "#@markdown 7️⃣. Re-type your password and press enter.\n",
        "\n",
        "#@markdown 8️⃣. In response to 8th field \" Edit advanced config? \", type 'n' and press enetr.\n",
        "\n",
        "#@markdown 9️⃣. In response to the 9th field, type \"y\" and press enter.\n",
        "\n",
        "#@markdown 🔟. In response to the last field, type ' q ' and press enter.\n",
        "\n",
        "!rclone config \n",
        "print('━━━━━━━━━━━━━━━━━━━━━━━━━━━━━━━━━━━━━━━━━━━━━━━━━━━━━━━━━━━━━━━━━━━━━━━━━━━━━━━━━━━━━━━━━━━━━━━━━━━━━━━━━')\n",
        "!sudo mkdir /content/mega\n",
        "!nohup rclone --vfs-cache-mode writes mount mega: /content/mega &\n",
        "print('━━━━━━━━━━━━━━━━━━━━━━━━━━━━━━━━━━━━━━━━━━━━━━━━━━━━━━━━━━━━━━━━━━━━━━━━━━━━━━━━━━━━━━━━━━━━━━━━━━━━━━━━━')\n",
        "print ('✔️ You have successfully mounted your \"Mega Drive\" to google colab!')\n",
        "print('━━━━━━━━━━━━━━━━━━━━━━━━━━━━━━━━━━━━━━━━━━━━━━━━━━━━━━━━━━━━━━━━━━━━━━━━━━━━━━━━━━━━━━━━━━━━━━━━━━━━━━━━━')\n",
        "print ('🎉 Have some cookies 🍪 you deserve it! ')\n"
      ],
      "execution_count": null,
      "outputs": []
    }
  ]
}