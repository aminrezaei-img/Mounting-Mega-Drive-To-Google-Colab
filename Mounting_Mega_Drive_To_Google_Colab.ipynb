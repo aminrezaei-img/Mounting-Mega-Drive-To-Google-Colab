{
  "nbformat": 4,
  "nbformat_minor": 0,
  "metadata": {
    "colab": {
      "name": "Mounting Mega Drive To Google Colab.ipynb",
      "provenance": [],
      "collapsed_sections": [
        "5k-oOkKAjQob",
        "3PgcxGoMKNJ9",
        "ywZD1yLrKWU8"
      ],
      "authorship_tag": "ABX9TyMLdzaC7hLFfs2nlO55HYN0",
      "include_colab_link": true
    },
    "kernelspec": {
      "name": "python3",
      "display_name": "Python 3"
    },
    "language_info": {
      "name": "python"
    }
  },
  "cells": [
    {
      "cell_type": "markdown",
      "metadata": {
        "id": "view-in-github",
        "colab_type": "text"
      },
      "source": [
        "<a href=\"https://colab.research.google.com/github/aminrezaei-img/Mounting-Mega-Drive-To-Google-Colab/blob/main/Mounting_Mega_Drive_To_Google_Colab.ipynb\" target=\"_parent\"><img src=\"https://colab.research.google.com/assets/colab-badge.svg\" alt=\"Open In Colab\"/></a>"
      ]
    },
    {
      "cell_type": "markdown",
      "metadata": {
        "id": "NAgj_Y06bngJ"
      },
      "source": [
        "<p><img alt=\"Drive logo\" height=\"35px\" src=\"/img/colab_favicon.ico\" align=\"left\" hspace=\"10px\" vspace=\"3px\"></p>\n",
        "\n",
        "# **Mounting Mega Drive to Google Colab**"
      ]
    },
    {
      "cell_type": "markdown",
      "metadata": {
        "id": "5k-oOkKAjQob"
      },
      "source": [
        "# 1. **Steps to follow on your Google colab**"
      ]
    },
    {
      "cell_type": "markdown",
      "metadata": {
        "id": "3PgcxGoMKNJ9"
      },
      "source": [
        "## 1.1 install dependencies"
      ]
    },
    {
      "cell_type": "code",
      "metadata": {
        "id": "0vt-A2HejSRR",
        "cellView": "form"
      },
      "source": [
        "#@markdown ##Press play to install rclone on your VM\n",
        "!curl  https://rclone.org/install.sh | sudo bash\n",
        "print('━━━━━━━━━━━━━━━━━━━━━━━━━━━━━━━━━━━━━━━━━━━━━━━━━━━━━━━━━━━━━━━━━━━━━━━━━━━━━━━━━━━━━━━━━━━━━━━━━━━━━━━━━')\n",
        "print('✔️ Rclone has been successfully')"
      ],
      "execution_count": null,
      "outputs": []
    },
    {
      "cell_type": "markdown",
      "metadata": {
        "id": "ywZD1yLrKWU8"
      },
      "source": [
        "## 1.2 Set your configs ⚙️ manually ⌨️ - Click on the cell below to expand, and then follow the instructions 📖"
      ]
    },
    {
      "cell_type": "code",
      "metadata": {
        "id": "-gPLndn4K20a",
        "cellView": "form"
      },
      "source": [
        "#@markdown ##Press play to set Mega Drive configurations.\n",
        "\n",
        "#@markdown ##**Reply to the following fields in the order listed below:**\n",
        "\n",
        "#@markdown 1️⃣. Type ' n ' in the 1st empty field and press enter.\n",
        "\n",
        "#@markdown 2️⃣. Type ' mega ' in the 2nd empty field and press enter (case sensetive, Capslock off).\n",
        "\n",
        "#@markdown 3️⃣. Type the ' number ' that affiliates with mega in the 3rd empty field and press enter (for example in rclone v1.56.0 this number is '25').\n",
        "\n",
        "#@markdown 4️⃣. Insert your Mega User name and press enter (For example: 123@456.com).\n",
        "\n",
        "#@markdown 5️⃣. In response to 5th field \"Select type in my own password\". Type \"y\" and press enter.\n",
        "\n",
        "#@markdown 6️⃣. Type your Mega password and press enter.\n",
        "\n",
        "#@markdown 7️⃣. Re-type your password and press enter.\n",
        "\n",
        "#@markdown 8️⃣. In response to 8th field \" Edit advanced config? \", type 'n' and press enetr.\n",
        "\n",
        "#@markdown 9️⃣. In response to the 9th field, type \"y\" and press enter.\n",
        "\n",
        "#@markdown 🔟. In response to the last field, type ' q ' and press enter.\n",
        "\n",
        "!rclone config \n",
        "print('━━━━━━━━━━━━━━━━━━━━━━━━━━━━━━━━━━━━━━━━━━━━━━━━━━━━━━━━━━━━━━━━━━━━━━━━━━━━━━━━━━━━━━━━━━━━━━━━━━━━━━━━━')\n",
        "!sudo mkdir /content/mega\n",
        "!nohup rclone --vfs-cache-mode writes mount mega: /content/mega &\n",
        "print('━━━━━━━━━━━━━━━━━━━━━━━━━━━━━━━━━━━━━━━━━━━━━━━━━━━━━━━━━━━━━━━━━━━━━━━━━━━━━━━━━━━━━━━━━━━━━━━━━━━━━━━━━')\n",
        "print ('✔️ You have successfully mounted your \"Mega Drive\" to google colab!')\n",
        "print('━━━━━━━━━━━━━━━━━━━━━━━━━━━━━━━━━━━━━━━━━━━━━━━━━━━━━━━━━━━━━━━━━━━━━━━━━━━━━━━━━━━━━━━━━━━━━━━━━━━━━━━━━')\n",
        "print ('🎉 Have some cookies 🍪 you deserve it! ')\n"
      ],
      "execution_count": null,
      "outputs": []
    }
  ]
}